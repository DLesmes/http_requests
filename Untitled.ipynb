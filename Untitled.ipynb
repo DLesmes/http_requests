{
 "cells": [
  {
   "cell_type": "markdown",
   "id": "67eddfb0",
   "metadata": {},
   "source": [
    "# Rest API on platzi fakeapi with requests library"
   ]
  },
  {
   "cell_type": "markdown",
   "id": "500d9edd",
   "metadata": {},
   "source": [
    "#### Requirements"
   ]
  },
  {
   "cell_type": "code",
   "execution_count": 2,
   "id": "b76cacf9",
   "metadata": {},
   "outputs": [],
   "source": [
    "import requests"
   ]
  },
  {
   "cell_type": "code",
   "execution_count": 13,
   "id": "389a4c4b",
   "metadata": {},
   "outputs": [],
   "source": [
    "endpoint = 'https://api.escuelajs.co/api/v1/'\n",
    "section = 'products/'\n",
    "url = endpoint+section"
   ]
  },
  {
   "cell_type": "markdown",
   "id": "dc7ca25e",
   "metadata": {},
   "source": [
    "#### Get"
   ]
  },
  {
   "cell_type": "code",
   "execution_count": 14,
   "id": "bb0f200a",
   "metadata": {},
   "outputs": [
    {
     "name": "stdout",
     "output_type": "stream",
     "text": [
      "Status:  200\n"
     ]
    },
    {
     "data": {
      "text/plain": [
       "{'id': 1,\n",
       " 'title': 'Elegant Cotton Car',\n",
       " 'price': 364,\n",
       " 'description': 'The automobile layout consists of a front-engine design, with transaxle-type transmissions mounted at the rear of the engine and four wheel drive',\n",
       " 'images': ['https://api.lorem.space/image/shoes?w=640&h=480&r=5501',\n",
       "  'https://api.lorem.space/image/shoes?w=640&h=480&r=2488',\n",
       "  'https://api.lorem.space/image/shoes?w=640&h=480&r=6490'],\n",
       " 'creationAt': '2023-01-08T23:40:24.000Z',\n",
       " 'updatedAt': '2023-01-08T23:40:24.000Z',\n",
       " 'category': {'id': 4,\n",
       "  'name': 'Shoes',\n",
       "  'image': 'https://api.lorem.space/image/shoes?w=640&h=480&r=1570',\n",
       "  'creationAt': '2023-01-08T23:40:24.000Z',\n",
       "  'updatedAt': '2023-01-08T23:40:24.000Z'}}"
      ]
     },
     "execution_count": 14,
     "metadata": {},
     "output_type": "execute_result"
    }
   ],
   "source": [
    "res = requests.get(url+'1')\n",
    "print('Status: ',res.status_code)\n",
    "res.json()"
   ]
  },
  {
   "cell_type": "markdown",
   "id": "24ec2361",
   "metadata": {},
   "source": [
    "#### Post"
   ]
  },
  {
   "cell_type": "code",
   "execution_count": 40,
   "id": "1a4a92f2",
   "metadata": {},
   "outputs": [],
   "source": [
    "body = {\n",
    "        'title': 'Post reference!!',\n",
    "        'price': 999999,\n",
    "        'description': 'The The post reference using requests library',\n",
    "        'images': ['https://api.lorem.space/image/shoes?w=640&h=480&r=5501',\n",
    "                    'https://api.lorem.space/image/shoes?w=640&h=480&r=2488',\n",
    "                    'https://api.lorem.space/image/shoes?w=640&h=480&r=6490'],\n",
    "        \"categoryId\": 100000\n",
    "\n",
    "        }"
   ]
  },
  {
   "cell_type": "code",
   "execution_count": 39,
   "id": "61a27eac",
   "metadata": {},
   "outputs": [
    {
     "name": "stdout",
     "output_type": "stream",
     "text": [
      "Status:  400\n"
     ]
    },
    {
     "data": {
      "text/plain": [
       "{'statusCode': 400,\n",
       " 'message': ['categoryId should not be empty',\n",
       "  'categoryId must be a number conforming to the specified constraints'],\n",
       " 'error': 'Bad Request'}"
      ]
     },
     "execution_count": 39,
     "metadata": {},
     "output_type": "execute_result"
    }
   ],
   "source": [
    "res = requests.post(url,data=body)\n",
    "print('Status: ',res.status_code)\n",
    "res.json()"
   ]
  }
 ],
 "metadata": {
  "kernelspec": {
   "display_name": "Python 3 (ipykernel)",
   "language": "python",
   "name": "python3"
  },
  "language_info": {
   "codemirror_mode": {
    "name": "ipython",
    "version": 3
   },
   "file_extension": ".py",
   "mimetype": "text/x-python",
   "name": "python",
   "nbconvert_exporter": "python",
   "pygments_lexer": "ipython3",
   "version": "3.9.6"
  }
 },
 "nbformat": 4,
 "nbformat_minor": 5
}
