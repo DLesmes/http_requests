{
 "cells": [
  {
   "cell_type": "markdown",
   "id": "848b94d8",
   "metadata": {},
   "source": [
    "# Rest API on platzi fakeapi with requests library"
   ]
  },
  {
   "cell_type": "markdown",
   "id": "bb8bc931",
   "metadata": {},
   "source": [
    "As a python lover I like to use everything in pure python and you must know that there is alibrary equivalet to Insomnia o Postman, it is [requests](https://requests.readthedocs.io/en/latest/) and of course doesn't have all the UI that they offer but is a backend solution with any installation more that his [pip packaging](https://github.com/DLesmes/http_requests/blob/main/requirements.txt#L1), so here I show a basic use of it with the [platzi fakeapi](https://fakeapi.platzi.com/), for more information you can see the documentation"
   ]
  },
  {
   "cell_type": "markdown",
   "id": "8b60d61a",
   "metadata": {},
   "source": [
    "#### Requirements"
   ]
  },
  {
   "cell_type": "code",
   "execution_count": 2,
   "id": "5d997620",
   "metadata": {},
   "outputs": [],
   "source": [
    "import requests"
   ]
  },
  {
   "cell_type": "code",
   "execution_count": 13,
   "id": "71ed9075",
   "metadata": {},
   "outputs": [],
   "source": [
    "endpoint = 'https://api.escuelajs.co/api/v1/'\n",
    "section = 'products/'\n",
    "url = endpoint+section"
   ]
  },
  {
   "cell_type": "markdown",
   "id": "cf26c734",
   "metadata": {},
   "source": [
    "#### Get"
   ]
  },
  {
   "cell_type": "code",
   "execution_count": 14,
   "id": "cccd0f8b",
   "metadata": {},
   "outputs": [
    {
     "name": "stdout",
     "output_type": "stream",
     "text": [
      "Status:  200\n"
     ]
    },
    {
     "data": {
      "text/plain": [
       "{'id': 1,\n",
       " 'title': 'Elegant Cotton Car',\n",
       " 'price': 364,\n",
       " 'description': 'The automobile layout consists of a front-engine design, with transaxle-type transmissions mounted at the rear of the engine and four wheel drive',\n",
       " 'images': ['https://api.lorem.space/image/shoes?w=640&h=480&r=5501',\n",
       "  'https://api.lorem.space/image/shoes?w=640&h=480&r=2488',\n",
       "  'https://api.lorem.space/image/shoes?w=640&h=480&r=6490'],\n",
       " 'creationAt': '2023-01-08T23:40:24.000Z',\n",
       " 'updatedAt': '2023-01-08T23:40:24.000Z',\n",
       " 'category': {'id': 4,\n",
       "  'name': 'Shoes',\n",
       "  'image': 'https://api.lorem.space/image/shoes?w=640&h=480&r=1570',\n",
       "  'creationAt': '2023-01-08T23:40:24.000Z',\n",
       "  'updatedAt': '2023-01-08T23:40:24.000Z'}}"
      ]
     },
     "execution_count": 14,
     "metadata": {},
     "output_type": "execute_result"
    }
   ],
   "source": [
    "res = requests.get(url+'1')\n",
    "print('Status: ',res.status_code)\n",
    "res.json()"
   ]
  },
  {
   "cell_type": "markdown",
   "id": "725c654b",
   "metadata": {},
   "source": [
    "#### Post"
   ]
  },
  {
   "cell_type": "code",
   "execution_count": 46,
   "id": "57d85f15",
   "metadata": {},
   "outputs": [],
   "source": [
    "body = {\n",
    "        'title': 'Post reference!!',\n",
    "        'price': 999999,\n",
    "        'description': 'The The post reference using requests library',\n",
    "        'images': ['https://api.lorem.space/image/shoes?w=640&h=480&r=5501',\n",
    "                    'https://api.lorem.space/image/shoes?w=640&h=480&r=2488',\n",
    "                    'https://api.lorem.space/image/shoes?w=640&h=480&r=6490'],\n",
    "        \"categoryId\": 4\n",
    "\n",
    "        }"
   ]
  },
  {
   "cell_type": "code",
   "execution_count": 47,
   "id": "75bfc7d5",
   "metadata": {},
   "outputs": [
    {
     "name": "stdout",
     "output_type": "stream",
     "text": [
      "Status:  201\n"
     ]
    },
    {
     "data": {
      "text/plain": [
       "{'title': 'Post reference!!',\n",
       " 'price': 999999,\n",
       " 'description': 'The The post reference using requests library',\n",
       " 'images': ['https://api.lorem.space/image/shoes?w=640&h=480&r=5501',\n",
       "  'https://api.lorem.space/image/shoes?w=640&h=480&r=2488',\n",
       "  'https://api.lorem.space/image/shoes?w=640&h=480&r=6490'],\n",
       " 'category': {'id': 4,\n",
       "  'name': 'Shoes',\n",
       "  'image': 'https://api.lorem.space/image/shoes?w=640&h=480&r=1570',\n",
       "  'creationAt': '2023-01-08T23:40:24.000Z',\n",
       "  'updatedAt': '2023-01-08T23:40:24.000Z'},\n",
       " 'id': 208,\n",
       " 'creationAt': '2023-01-09T06:25:05.000Z',\n",
       " 'updatedAt': '2023-01-09T06:25:05.000Z'}"
      ]
     },
     "execution_count": 47,
     "metadata": {},
     "output_type": "execute_result"
    }
   ],
   "source": [
    "res = requests.post(url,json=body)\n",
    "print('Status: ',res.status_code)\n",
    "res.json()"
   ]
  },
  {
   "cell_type": "markdown",
   "id": "c39f35aa",
   "metadata": {},
   "source": [
    "#### put"
   ]
  },
  {
   "cell_type": "code",
   "execution_count": 48,
   "id": "8950072d",
   "metadata": {},
   "outputs": [],
   "source": [
    "body = {\n",
    "        'price': 1,\n",
    "        }"
   ]
  },
  {
   "cell_type": "code",
   "execution_count": 50,
   "id": "d8932b67",
   "metadata": {},
   "outputs": [
    {
     "name": "stdout",
     "output_type": "stream",
     "text": [
      "Status:  200\n"
     ]
    },
    {
     "data": {
      "text/plain": [
       "{'id': 208,\n",
       " 'title': 'Post reference!!',\n",
       " 'price': 1,\n",
       " 'description': 'The The post reference using requests library',\n",
       " 'images': ['https://api.lorem.space/image/shoes?w=640&h=480&r=5501',\n",
       "  'https://api.lorem.space/image/shoes?w=640&h=480&r=2488',\n",
       "  'https://api.lorem.space/image/shoes?w=640&h=480&r=6490'],\n",
       " 'creationAt': '2023-01-09T06:25:05.000Z',\n",
       " 'updatedAt': '2023-01-09T06:28:08.000Z',\n",
       " 'category': {'id': 4,\n",
       "  'name': 'Shoes',\n",
       "  'image': 'https://api.lorem.space/image/shoes?w=640&h=480&r=1570',\n",
       "  'creationAt': '2023-01-08T23:40:24.000Z',\n",
       "  'updatedAt': '2023-01-08T23:40:24.000Z'}}"
      ]
     },
     "execution_count": 50,
     "metadata": {},
     "output_type": "execute_result"
    }
   ],
   "source": [
    "res = requests.put(url+'208',json=body)\n",
    "print('Status: ',res.status_code)\n",
    "res.json()"
   ]
  },
  {
   "cell_type": "markdown",
   "id": "42345756",
   "metadata": {},
   "source": [
    "#### delete"
   ]
  },
  {
   "cell_type": "code",
   "execution_count": 52,
   "id": "f228d491",
   "metadata": {},
   "outputs": [
    {
     "name": "stdout",
     "output_type": "stream",
     "text": [
      "Status:  200\n"
     ]
    },
    {
     "data": {
      "text/plain": [
       "{'id': 208,\n",
       " 'title': 'Post reference!!',\n",
       " 'price': 1,\n",
       " 'description': 'The The post reference using requests library',\n",
       " 'images': ['https://api.lorem.space/image/shoes?w=640&h=480&r=5501',\n",
       "  'https://api.lorem.space/image/shoes?w=640&h=480&r=2488',\n",
       "  'https://api.lorem.space/image/shoes?w=640&h=480&r=6490'],\n",
       " 'creationAt': '2023-01-09T06:25:05.000Z',\n",
       " 'updatedAt': '2023-01-09T06:28:08.000Z',\n",
       " 'category': {'id': 4,\n",
       "  'name': 'Shoes',\n",
       "  'image': 'https://api.lorem.space/image/shoes?w=640&h=480&r=1570',\n",
       "  'creationAt': '2023-01-08T23:40:24.000Z',\n",
       "  'updatedAt': '2023-01-08T23:40:24.000Z'}}"
      ]
     },
     "execution_count": 52,
     "metadata": {},
     "output_type": "execute_result"
    }
   ],
   "source": [
    "res = requests.put(url+'208')\n",
    "print('Status: ',res.status_code)\n",
    "res.json()"
   ]
  }
 ],
 "metadata": {
  "kernelspec": {
   "display_name": "Python 3 (ipykernel)",
   "language": "python",
   "name": "python3"
  },
  "language_info": {
   "codemirror_mode": {
    "name": "ipython",
    "version": 3
   },
   "file_extension": ".py",
   "mimetype": "text/x-python",
   "name": "python",
   "nbconvert_exporter": "python",
   "pygments_lexer": "ipython3",
   "version": "3.9.6"
  }
 },
 "nbformat": 4,
 "nbformat_minor": 5
}
