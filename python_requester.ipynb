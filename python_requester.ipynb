{
 "cells": [
  {
   "cell_type": "markdown",
   "metadata": {},
   "source": [
    "# Requirements"
   ]
  },
  {
   "cell_type": "code",
   "execution_count": 2,
   "metadata": {},
   "outputs": [],
   "source": [
    "import requests"
   ]
  },
  {
   "cell_type": "markdown",
   "metadata": {},
   "source": [
    "## get"
   ]
  },
  {
   "cell_type": "code",
   "execution_count": 49,
   "metadata": {},
   "outputs": [
    {
     "name": "stdout",
     "output_type": "stream",
     "text": [
      "200\n",
      "{\"message\":\"11 datos encontrados\",\"datos\":[{\"idMedico\":34,\"primerNombre\":\"Damar\",\"segundoNombre\":\"Nicolás\",\"primerApellido\":\"Rojas\",\"segundoApellido\":\"Chacón\",\"usuario\":\"Nico2595\",\"contraseña\":\"nico2595\",\"fotoUsuario\":\"No tiene\",\"firma\":\"Nicolás R.\"},{\"idMedico\":35,\"primerNombre\":\"Pedro\",\"segundoNombre\":\"Danjack\",\"primerApellido\":\"Ortiz\",\"segundoApellido\":\"Pacheco\",\"usuario\":\"Jackie\",\"contraseña\":\"jackie\",\"fotoUsuario\":\"No tengo foto\",\"firma\":\"Jackie\"},{\"idMedico\":36,\"primerNombre\":\"Jully\",\"segundoNombre\":\"Nathalia\",\"primerApellido\":\"Moreno\",\"segundoApellido\":\"Sánchez\",\"usuario\":\"NathaMu\",\"contraseña\":\"nathamu\",\"fotoUsuario\":\"\",\"firma\":\"Natha Moreno\"},{\"idMedico\":37,\"primerNombre\":\"Miller\",\"segundoNombre\":\"Albeiro\",\"primerApellido\":\"Puentes\",\"segundoApellido\":\"Lozano\",\"usuario\":\"MillerP\",\"contraseña\":\"millerp\",\"fotoUsuario\":\"\",\"firma\":\"Miller P.\"},{\"idMedico\":38,\"primerNombre\":\"Diego\",\"segundoNombre\":\"Alejandro\",\"primerApellido\":\"Choco\",\"segundoApellido\":\"Lesmes\",\"usuario\":\"DiegoChoco\",\"contraseña\":\"diegochoco\",\"fotoUsuario\":\"\",\"firma\":\"Diego Choco\"},{\"idMedico\":39,\"primerNombre\":\"Profesor\",\"segundoNombre\":\"\",\"primerApellido\":\"Profesor\",\"segundoApellido\":\"Profesor\",\"usuario\":\"profesor\",\"contraseña\":\"profesor\",\"fotoUsuario\":\"\",\"firma\":\"Profesor\"},{\"idMedico\":40,\"primerNombre\":\"Profe\",\"segundoNombre\":\"Tutor\",\"primerApellido\":\"Profe\",\"segundoApellido\":\"Tutor\",\"usuario\":\"tutor\",\"contraseña\":\"tutor\",\"fotoUsuario\":\"na\",\"firma\":\"Profe Tutor\"},{\"idMedico\":41,\"primerNombre\":\"profe\",\"segundoNombre\":\"2\",\"primerApellido\":\"3\",\"segundoApellido\":\"4\",\"usuario\":\"profe\",\"contraseña\":\"tutor\",\"fotoUsuario\":\"na\",\"firma\":\"profe tutor\"},{\"idMedico\":42,\"primerNombre\":\"Profe\",\"segundoNombre\":\"Tutor\",\"primerApellido\":\"1\",\"segundoApellido\":\"2\",\"usuario\":\"Profe 1\",\"contraseña\":\"profe\",\"fotoUsuario\":\"NA\",\"firma\":\"Profe1\"},{\"idMedico\":43,\"primerNombre\":\"jack\",\"segundoNombre\":\"a\",\"primerApellido\":\"a\",\"segundoApellido\":\"a\",\"usuario\":\"a\",\"contraseña\":\"a\",\"fotoUsuario\":\"a\",\"firma\":\"a\"},{\"idMedico\":44,\"primerNombre\":\"Laura\",\"segundoNombre\":\"\",\"primerApellido\":\"Camargo\",\"segundoApellido\":\"Valderrama\",\"usuario\":\"Laurav\",\"contraseña\":\"laurav\",\"fotoUsuario\":\"No tengo foto\",\"firma\":\"null\"}]}\n"
     ]
    }
   ],
   "source": [
    "response = requests.get('http://localhost:3000/getMedicos')\n",
    "print(response.status_code)\n",
    "print(response.text)"
   ]
  },
  {
   "cell_type": "code",
   "execution_count": 51,
   "metadata": {},
   "outputs": [
    {
     "name": "stdout",
     "output_type": "stream",
     "text": [
      "200\n",
      "{\"message\":\"1 datos encontrados\",\"datos\":{\"idMedico\":34,\"primerNombre\":\"Damar\",\"segundoNombre\":\"Nicolás\",\"primerApellido\":\"Rojas\",\"segundoApellido\":\"Chacón\",\"usuario\":\"Nico2595\",\"contraseña\":\"nico2595\",\"fotoUsuario\":\"No tiene\",\"firma\":\"Nicolás R.\"}}\n"
     ]
    }
   ],
   "source": [
    "response = requests.get('http://localhost:3000/getMedico/34')\n",
    "print(response.status_code)\n",
    "print(response.text)"
   ]
  },
  {
   "cell_type": "markdown",
   "metadata": {},
   "source": [
    "## post"
   ]
  },
  {
   "cell_type": "code",
   "execution_count": 54,
   "metadata": {},
   "outputs": [
    {
     "name": "stdout",
     "output_type": "stream",
     "text": [
      "201\n",
      "{\"message\":\"created\",\"id\":45}\n"
     ]
    }
   ],
   "source": [
    "data = {\"primerNombre\":\"Damar2\",\n",
    "        \"segundoNombre\":\"Nicolás2\",\n",
    "        \"primerApellido\":\"Rojas2\",\n",
    "        \"segundoApellido\":\"Chacón2\",\n",
    "        \"usuario\":\"Nico25952\",\n",
    "        \"contraseña\":\"nico25952\",\n",
    "        \"fotoUsuario\":\"No tiene2\",\n",
    "        \"firma\":\"Nicolás R.2\"}\n",
    "response = requests.post('http://localhost:3000/addMedico',data=data)\n",
    "print(response.status_code)\n",
    "print(response.text)"
   ]
  },
  {
   "cell_type": "code",
   "execution_count": 57,
   "metadata": {},
   "outputs": [
    {
     "name": "stdout",
     "output_type": "stream",
     "text": [
      "200\n"
     ]
    },
    {
     "data": {
      "text/plain": [
       "{'message': '1 datos encontrados',\n",
       " 'datos': {'idMedico': 45,\n",
       "  'primerNombre': 'Damar2',\n",
       "  'segundoNombre': 'Nicolás2',\n",
       "  'primerApellido': 'Rojas2',\n",
       "  'segundoApellido': 'Chacón2',\n",
       "  'usuario': 'Nico25952',\n",
       "  'contraseña': 'nico25952',\n",
       "  'fotoUsuario': 'No tiene2',\n",
       "  'firma': 'Nicolás R.2'}}"
      ]
     },
     "execution_count": 57,
     "metadata": {},
     "output_type": "execute_result"
    }
   ],
   "source": [
    "response = requests.get('http://localhost:3000/getMedico/45')\n",
    "print(response.status_code)\n",
    "response.json()"
   ]
  },
  {
   "cell_type": "markdown",
   "metadata": {},
   "source": [
    "## put"
   ]
  },
  {
   "cell_type": "code",
   "execution_count": 58,
   "metadata": {},
   "outputs": [
    {
     "name": "stdout",
     "output_type": "stream",
     "text": [
      "200\n",
      "{\"message\":\"updated\"}\n"
     ]
    }
   ],
   "source": [
    "data = {\"primerNombre\":\"Damar3\",\n",
    "        \"segundoNombre\":\"Nicolás3\",\n",
    "        \"primerApellido\":\"Rojas3\",\n",
    "        \"segundoApellido\":\"Chacón3\",\n",
    "        \"usuario\":\"Nico25953\",\n",
    "        \"contraseña\":\"nico25953\",\n",
    "        \"fotoUsuario\":\"No tiene3\",\n",
    "        \"firma\":\"Nicolás R.2\"}\n",
    "response = requests.put('http://localhost:3000/updateMedico/45',data=data)\n",
    "print(response.status_code)\n",
    "print(response.text)"
   ]
  },
  {
   "cell_type": "code",
   "execution_count": 59,
   "metadata": {},
   "outputs": [
    {
     "name": "stdout",
     "output_type": "stream",
     "text": [
      "200\n"
     ]
    },
    {
     "data": {
      "text/plain": [
       "{'message': '1 datos encontrados',\n",
       " 'datos': {'idMedico': 45,\n",
       "  'primerNombre': 'Damar3',\n",
       "  'segundoNombre': 'Nicolás3',\n",
       "  'primerApellido': 'Rojas3',\n",
       "  'segundoApellido': 'Chacón3',\n",
       "  'usuario': 'Nico25953',\n",
       "  'contraseña': 'nico25953',\n",
       "  'fotoUsuario': 'No tiene3',\n",
       "  'firma': 'Nicolás R.2'}}"
      ]
     },
     "execution_count": 59,
     "metadata": {},
     "output_type": "execute_result"
    }
   ],
   "source": [
    "response = requests.get('http://localhost:3000/getMedico/45')\n",
    "print(response.status_code)\n",
    "response.json()"
   ]
  },
  {
   "cell_type": "markdown",
   "metadata": {},
   "source": [
    "## delete"
   ]
  },
  {
   "cell_type": "code",
   "execution_count": 60,
   "metadata": {},
   "outputs": [
    {
     "name": "stdout",
     "output_type": "stream",
     "text": [
      "200\n",
      "{\"message\":\"deleted\"}\n"
     ]
    }
   ],
   "source": [
    "response = requests.delete('http://localhost:3000/eliminarCancion/45')\n",
    "print(response.status_code)\n",
    "print(response.text)"
   ]
  },
  {
   "cell_type": "code",
   "execution_count": 61,
   "metadata": {},
   "outputs": [
    {
     "name": "stdout",
     "output_type": "stream",
     "text": [
      "200\n"
     ]
    },
    {
     "data": {
      "text/plain": [
       "{'message': '0 datos encontrados', 'datos': None}"
      ]
     },
     "execution_count": 61,
     "metadata": {},
     "output_type": "execute_result"
    }
   ],
   "source": [
    "response = requests.get('http://localhost:3000/getMedico/45')\n",
    "print(response.status_code)\n",
    "response.json()"
   ]
  },
  {
   "cell_type": "markdown",
   "metadata": {},
   "source": [
    "Middleware"
   ]
  },
  {
   "cell_type": "code",
   "execution_count": 3,
   "metadata": {},
   "outputs": [
    {
     "name": "stdout",
     "output_type": "stream",
     "text": [
      "200\n",
      "{\"message\":\"10 datos encontrados\",\"datos\":[{\"idMedico\":34,\"primerNombre\":\"Damar\",\"segundoNombre\":\"Nicolás\",\"primerApellido\":\"Rojas\",\"segundoApellido\":\"Chacón\",\"usuario\":\"Nico2595\",\"contraseña\":\"nico2595\",\"fotoUsuario\":\"No tiene\",\"firma\":\"Nicolás R.\"},{\"idMedico\":35,\"primerNombre\":\"Pedro\",\"segundoNombre\":\"Danjack\",\"primerApellido\":\"Ortiz\",\"segundoApellido\":\"Pacheco\",\"usuario\":\"Jackie\",\"contraseña\":\"jackie\",\"fotoUsuario\":\"No tengo foto\",\"firma\":\"Jackie\"},{\"idMedico\":36,\"primerNombre\":\"Jully\",\"segundoNombre\":\"Nathalia\",\"primerApellido\":\"Moreno\",\"segundoApellido\":\"Sánchez\",\"usuario\":\"NathaMu\",\"contraseña\":\"nathamu\",\"fotoUsuario\":\"\",\"firma\":\"Natha Moreno\"},{\"idMedico\":37,\"primerNombre\":\"Miller\",\"segundoNombre\":\"Albeiro\",\"primerApellido\":\"Puentes\",\"segundoApellido\":\"Lozano\",\"usuario\":\"MillerP\",\"contraseña\":\"millerp\",\"fotoUsuario\":\"\",\"firma\":\"Miller P.\"},{\"idMedico\":38,\"primerNombre\":\"Diego\",\"segundoNombre\":\"Alejandro\",\"primerApellido\":\"Choco\",\"segundoApellido\":\"Lesmes\",\"usuario\":\"DiegoChoco\",\"contraseña\":\"diegochoco\",\"fotoUsuario\":\"\",\"firma\":\"Diego Choco\"},{\"idMedico\":39,\"primerNombre\":\"Damaris\",\"segundoNombre\":\"Nícola\",\"primerApellido\":\"Rojas3\",\"segundoApellido\":\"Chacon\",\"usuario\":\"Nicolay\",\"contraseña\":\"nico5241\",\"fotoUsuario\":\"No tiene3\",\"firma\":\"Nicolás R.45\"},{\"idMedico\":43,\"primerNombre\":\"jack\",\"segundoNombre\":\"a\",\"primerApellido\":\"a\",\"segundoApellido\":\"a\",\"usuario\":\"a\",\"contraseña\":\"a\",\"fotoUsuario\":\"a\",\"firma\":\"a\"},{\"idMedico\":46,\"primerNombre\":\"Damar3\",\"segundoNombre\":\"Nicolás3\",\"primerApellido\":\"Rojas3\",\"segundoApellido\":\"Chacón3\",\"usuario\":\"Nico25953\",\"contraseña\":\"nico25953\",\"fotoUsuario\":\"No tiene3\",\"firma\":\"Nicolás R.2\"},{\"idMedico\":47,\"primerNombre\":\"Natto1\",\"segundoNombre\":\"Alfono1\",\"primerApellido\":\"Rojas1\",\"segundoApellido\":\"Chacón1\",\"usuario\":\"Natto34344\",\"contraseña\":\"nato8782\",\"fotoUsuario\":\"No tiene3\",\"firma\":\"Natto R.dsd\"},{\"idMedico\":48,\"primerNombre\":\"Alfredo\",\"segundoNombre\":\"Emilio\",\"primerApellido\":\"Rojas\",\"segundoApellido\":\"Titan\",\"usuario\":\"Natto34344\",\"contraseña\":\"nato8782\",\"fotoUsuario\":\"No tiene3\",\"firma\":\"Natto R.dsd\"}]}\n"
     ]
    }
   ],
   "source": [
    "headers = {\"isadmin\":\"true\"}\n",
    "response = requests.get('http://localhost:3000/getMedicos',headers=headers)\n",
    "print(response.status_code)\n",
    "print(response.text)"
   ]
  }
 ],
 "metadata": {
  "interpreter": {
   "hash": "7b5978ef1df5e49ab9ce208288dfe35af910bbd6a102cac240ae078108327942"
  },
  "kernelspec": {
   "display_name": "Python 3.8.10 64-bit ('env_http': venv)",
   "name": "python3"
  },
  "language_info": {
   "codemirror_mode": {
    "name": "ipython",
    "version": 3
   },
   "file_extension": ".py",
   "mimetype": "text/x-python",
   "name": "python",
   "nbconvert_exporter": "python",
   "pygments_lexer": "ipython3",
   "version": "3.8.10"
  },
  "orig_nbformat": 4
 },
 "nbformat": 4,
 "nbformat_minor": 2
}
